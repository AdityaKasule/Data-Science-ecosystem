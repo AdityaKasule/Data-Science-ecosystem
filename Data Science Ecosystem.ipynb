{
 "cells": [
  {
   "cell_type": "markdown",
   "id": "5d8034a1",
   "metadata": {},
   "source": [
    "# Data Science tools and Ecosystem "
   ]
  },
  {
   "cell_type": "markdown",
   "id": "cfc92840",
   "metadata": {},
   "source": [
    "In this notebook, Data Science tools and Ecosystem are summerized"
   ]
  },
  {
   "cell_type": "markdown",
   "id": "c97a8836",
   "metadata": {},
   "source": [
    "Some of the popular languages that Data Scientists use:\n",
    "1. Python\n",
    "2. R \n",
    "3. SQL\n",
    "4. Java\n",
    "5. C, C++, etc.,\n",
    "    "
   ]
  },
  {
   "cell_type": "markdown",
   "id": "8e0d6dce",
   "metadata": {},
   "source": [
    "Some of the commanly used libraries used by data scientists:\n",
    "1. Tensor flow\n",
    "2. Numpy\n",
    "3. Pandas\n",
    "5. Matplotlib\n",
    "6. keras\n",
    "7. scikit learn\n",
    "8. PyTorch etc.,"
   ]
  },
  {
   "cell_type": "markdown",
   "id": "2367e9b6",
   "metadata": {},
   "source": [
    "| Data Science Tools |\n",
    "|---------------------------------|\n",
    "|SAS|\n",
    "|Apache|\n",
    "|Hadoop|"
   ]
  },
  {
   "cell_type": "markdown",
   "id": "65baa9b6",
   "metadata": {},
   "source": [
    "##### Below are a few examples of evaluating arithmetic expression in python"
   ]
  },
  {
   "cell_type": "code",
   "execution_count": 1,
   "id": "123c57eb",
   "metadata": {},
   "outputs": [
    {
     "data": {
      "text/plain": [
       "13"
      ]
     },
     "execution_count": 1,
     "metadata": {},
     "output_type": "execute_result"
    }
   ],
   "source": [
    "#this is a common arithmetic example to multiply then add integer \n",
    "(2*4)+5"
   ]
  },
  {
   "cell_type": "code",
   "execution_count": 3,
   "id": "51c67932",
   "metadata": {},
   "outputs": [
    {
     "data": {
      "text/plain": [
       "6.666666666666667"
      ]
     },
     "execution_count": 3,
     "metadata": {},
     "output_type": "execute_result"
    }
   ],
   "source": [
    "#this will convert 400 minutes into hours dividing by 60 \n",
    "400/60"
   ]
  },
  {
   "cell_type": "markdown",
   "id": "8c9f75b1",
   "metadata": {},
   "source": [
    "_Objective_\n",
    "* List popular languages for data science.\n",
    "* List popular libraries for data science.\n",
    "* List of well known data science tools.\n",
    "* How to provide comments in the cell."
   ]
  },
  {
   "cell_type": "markdown",
   "id": "47ed1495",
   "metadata": {},
   "source": [
    "## Author\n",
    "Aditya Kasule"
   ]
  }
 ],
 "metadata": {
  "kernelspec": {
   "display_name": "Python 3 (ipykernel)",
   "language": "python",
   "name": "python3"
  },
  "language_info": {
   "codemirror_mode": {
    "name": "ipython",
    "version": 3
   },
   "file_extension": ".py",
   "mimetype": "text/x-python",
   "name": "python",
   "nbconvert_exporter": "python",
   "pygments_lexer": "ipython3",
   "version": "3.9.12"
  }
 },
 "nbformat": 4,
 "nbformat_minor": 5
}
